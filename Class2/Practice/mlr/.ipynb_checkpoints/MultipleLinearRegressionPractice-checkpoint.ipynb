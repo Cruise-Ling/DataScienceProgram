{
 "cells": [
  {
   "cell_type": "markdown",
   "metadata": {},
   "source": [
    "# This practice will cover learning points in class2\n",
    "### 1 - Fit MLR model in python with sklearn and statesmodel packages\n",
    "### 2 - Model Selection\n",
    "### 3 - Weighted regression\n",
    "### 4 - Regularization, L1 and L2"
   ]
  },
  {
   "cell_type": "markdown",
   "metadata": {},
   "source": [
    "Import required Python packages."
   ]
  },
  {
   "cell_type": "code",
   "execution_count": 1,
   "metadata": {},
   "outputs": [
    {
     "name": "stdout",
     "output_type": "stream",
     "text": [
      "no display found. Using non-interactive Agg backend\n"
     ]
    }
   ],
   "source": [
    "from pathlib import Path\n",
    "import os\n",
    "import pandas as pd\n",
    "import numpy as np\n",
    "\n",
    "from sklearn.model_selection import train_test_split\n",
    "\n",
    "from sklearn.metrics import r2_score, mean_squared_error\n",
    "from sklearn.linear_model import LinearRegression, RidgeCV, LassoCV, ElasticNetCV\n",
    "\n",
    "import statsmodels.api as sm\n",
    "\n",
    "import seaborn as sns\n",
    "import matplotlib.pyplot as plt\n",
    "\n",
    "from dmba import stepwise_selection\n",
    "from dmba import AIC_score\n",
    "\n",
    "%matplotlib inline"
   ]
  },
  {
   "cell_type": "markdown",
   "metadata": {},
   "source": [
    "Define paths to data sets. If you don't keep your data in the same directory as the code, adapt the path names."
   ]
  },
  {
   "cell_type": "code",
   "execution_count": 2,
   "metadata": {},
   "outputs": [],
   "source": [
    "DATA = Path('.').resolve().parents[1] / '/Users/haoling/Documents/GitHub/DataScienceProgram/Class2/Practice/mlr'\n",
    "\n",
    "HOUSE_CSV = DATA / 'house_sales.csv'"
   ]
  },
  {
   "cell_type": "code",
   "execution_count": 3,
   "metadata": {},
   "outputs": [],
   "source": [
    "# print(DATA)\n",
    "# print(HOUSE_CSV)"
   ]
  },
  {
   "cell_type": "markdown",
   "metadata": {},
   "source": [
    "#### Data read and train-test split"
   ]
  },
  {
   "cell_type": "code",
   "execution_count": 4,
   "metadata": {},
   "outputs": [
    {
     "name": "stdout",
     "output_type": "stream",
     "text": [
      "      DocumentDate  SalePrice  PropertyID   PropertyType          ym  zhvi_px  \\\n",
      "14798   2008-09-08     460000  4358700009  Single Family  2008-09-01   394900   \n",
      "5567    2008-05-23     885000  1853080770  Single Family  2008-05-01   407400   \n",
      "23408   2009-06-05     244450  8637100370  Single Family  2009-06-01   357100   \n",
      "807     2006-06-28    1235000   293800350  Single Family  2006-06-01   404400   \n",
      "8178    2012-08-06     369000  2607730270  Single Family  2012-08-01   327500   \n",
      "\n",
      "       zhvi_idx  AdjSalePrice  NbrLivingUnits  SqFtLot  ...  Bathrooms  \\\n",
      "14798  0.907399      506944.0               1    10915  ...       2.00   \n",
      "5567   0.936121      945390.0               1     6000  ...       3.25   \n",
      "23408  0.820542      297913.0               1     5670  ...       2.00   \n",
      "807    0.929228     1329060.0               1    55088  ...       4.25   \n",
      "8178   0.752528      490347.0               1    10343  ...       2.50   \n",
      "\n",
      "       Bedrooms  BldgGrade  YrBuilt  YrRenovated  TrafficNoise  LandVal  \\\n",
      "14798         4          8     1988            0             0   157000   \n",
      "5567          4         10     2007            0             1   228000   \n",
      "23408         3          6     1994            0             0    80000   \n",
      "807           4         11     1996            0             0   217000   \n",
      "8178          4          8     1993            0             0   148000   \n",
      "\n",
      "       ImpsVal  ZipCode  NewConstruction  \n",
      "14798   302000    98133            False  \n",
      "5567    591000    98074             True  \n",
      "23408   124000    98055            False  \n",
      "807    1072000    98077            False  \n",
      "8178    264000    98045            False  \n",
      "\n",
      "[5 rows x 22 columns]\n",
      "(18149, 22)\n",
      "      DocumentDate  SalePrice  PropertyID   PropertyType          ym  zhvi_px  \\\n",
      "6540    2007-02-12     399990  2131900150  Single Family  2007-02-01   427800   \n",
      "7615    2009-01-09     406000  2484700015  Single Family  2009-01-01   378200   \n",
      "16463   2006-10-10     388000  5529000150      Multiplex  2006-10-01   418300   \n",
      "13736   2006-07-17     420000  4037500005  Single Family  2006-07-01   407700   \n",
      "24512   2009-08-28     257500  8856950010  Single Family  2009-08-01   352600   \n",
      "\n",
      "       zhvi_idx  AdjSalePrice  NbrLivingUnits  SqFtLot  ...  Bathrooms  \\\n",
      "6540   0.982996      406909.0               1    31891  ...       2.00   \n",
      "7615   0.869026      467190.0               1     6000  ...       1.50   \n",
      "16463  0.961167      403676.0               2     7200  ...       3.50   \n",
      "13736  0.936811      448330.0               1     8547  ...       1.75   \n",
      "24512  0.810202      317822.0               1    10201  ...       1.75   \n",
      "\n",
      "       Bedrooms  BldgGrade  YrBuilt  YrRenovated  TrafficNoise  LandVal  \\\n",
      "6540          3          7     1982            0             0   133000   \n",
      "7615          4          8     1955            0             0   206000   \n",
      "16463         4          7     1968            0             0    91000   \n",
      "13736         3          7     1958            0             1   280000   \n",
      "24512         3          7     1994            0             0   104000   \n",
      "\n",
      "       ImpsVal  ZipCode  NewConstruction  \n",
      "6540    191000    98019            False  \n",
      "7615    350000    98136            False  \n",
      "16463   175000    98003            False  \n",
      "13736   107000    98008            False  \n",
      "24512   163000    98038            False  \n",
      "\n",
      "[5 rows x 22 columns]\n",
      "(4538, 22)\n"
     ]
    }
   ],
   "source": [
    "houseall = pd.read_csv(HOUSE_CSV, sep='\\t')\n",
    "\n",
    "house, house_test = train_test_split(houseall, test_size=0.2)\n",
    "\n",
    "print(house.head())\n",
    "print(house.shape)\n",
    "\n",
    "print(house_test.head())\n",
    "print(house_test.shape)"
   ]
  },
  {
   "cell_type": "markdown",
   "metadata": {},
   "source": [
    "We can use the `LinearRegression` model from _scikit-learn_."
   ]
  },
  {
   "cell_type": "markdown",
   "metadata": {},
   "source": [
    "## 1 - Multiple Linear Regression (SKlearn)"
   ]
  },
  {
   "cell_type": "code",
   "execution_count": 5,
   "metadata": {},
   "outputs": [
    {
     "name": "stdout",
     "output_type": "stream",
     "text": [
      "       AdjSalePrice  SqFtTotLiving  SqFtLot  Bathrooms  Bedrooms  BldgGrade\n",
      "14798      506944.0           1880    10915       2.00         4          8\n",
      "5567       945390.0           3250     6000       3.25         4         10\n",
      "23408      297913.0           1340     5670       2.00         3          6\n",
      "807       1329060.0           6450    55088       4.25         4         11\n",
      "8178       490347.0           2140    10343       2.50         4          8\n"
     ]
    }
   ],
   "source": [
    "subset = ['AdjSalePrice', 'SqFtTotLiving', 'SqFtLot', 'Bathrooms', \n",
    "          'Bedrooms', 'BldgGrade']\n",
    "\n",
    "print(house[subset].head())"
   ]
  },
  {
   "cell_type": "code",
   "execution_count": 6,
   "metadata": {},
   "outputs": [
    {
     "name": "stdout",
     "output_type": "stream",
     "text": [
      "      DocumentDate  SalePrice  PropertyID   PropertyType          ym  zhvi_px  \\\n",
      "14798   2008-09-08     460000  4358700009  Single Family  2008-09-01   394900   \n",
      "5567    2008-05-23     885000  1853080770  Single Family  2008-05-01   407400   \n",
      "23408   2009-06-05     244450  8637100370  Single Family  2009-06-01   357100   \n",
      "807     2006-06-28    1235000   293800350  Single Family  2006-06-01   404400   \n",
      "8178    2012-08-06     369000  2607730270  Single Family  2012-08-01   327500   \n",
      "\n",
      "       zhvi_idx  AdjSalePrice  NbrLivingUnits  SqFtLot  ...  Bathrooms  \\\n",
      "14798  0.907399      506944.0               1    10915  ...       2.00   \n",
      "5567   0.936121      945390.0               1     6000  ...       3.25   \n",
      "23408  0.820542      297913.0               1     5670  ...       2.00   \n",
      "807    0.929228     1329060.0               1    55088  ...       4.25   \n",
      "8178   0.752528      490347.0               1    10343  ...       2.50   \n",
      "\n",
      "       Bedrooms  BldgGrade  YrBuilt  YrRenovated  TrafficNoise  LandVal  \\\n",
      "14798         4          8     1988            0             0   157000   \n",
      "5567          4         10     2007            0             1   228000   \n",
      "23408         3          6     1994            0             0    80000   \n",
      "807           4         11     1996            0             0   217000   \n",
      "8178          4          8     1993            0             0   148000   \n",
      "\n",
      "       ImpsVal  ZipCode  NewConstruction  \n",
      "14798   302000    98133            False  \n",
      "5567    591000    98074             True  \n",
      "23408   124000    98055            False  \n",
      "807    1072000    98077            False  \n",
      "8178    264000    98045            False  \n",
      "\n",
      "[5 rows x 22 columns]\n",
      "Index(['DocumentDate', 'SalePrice', 'PropertyID', 'PropertyType', 'ym',\n",
      "       'zhvi_px', 'zhvi_idx', 'AdjSalePrice', 'NbrLivingUnits', 'SqFtLot',\n",
      "       'SqFtTotLiving', 'SqFtFinBasement', 'Bathrooms', 'Bedrooms',\n",
      "       'BldgGrade', 'YrBuilt', 'YrRenovated', 'TrafficNoise', 'LandVal',\n",
      "       'ImpsVal', 'ZipCode', 'NewConstruction'],\n",
      "      dtype='object')\n"
     ]
    }
   ],
   "source": [
    "print(house.head())\n",
    "print(house.columns)"
   ]
  },
  {
   "cell_type": "code",
   "execution_count": 7,
   "metadata": {},
   "outputs": [
    {
     "name": "stdout",
     "output_type": "stream",
     "text": [
      "Intercept: -519930.831\n",
      "Coefficients:\n",
      " SqFtTotLiving: 225.1782853044226\n",
      " SqFtLot: -0.05060426492356015\n",
      " Bathrooms: -12614.282072702053\n",
      " Bedrooms: -51661.02743451371\n",
      " BldgGrade: 106591.14201333674\n"
     ]
    }
   ],
   "source": [
    "predictors = ['SqFtTotLiving', 'SqFtLot', 'Bathrooms', \n",
    "              'Bedrooms', 'BldgGrade']\n",
    "outcome = 'AdjSalePrice'\n",
    "\n",
    "house_lm = LinearRegression()\n",
    "house_lm.fit(house[predictors], house[outcome])\n",
    "\n",
    "print(f'Intercept: {house_lm.intercept_:.3f}')\n",
    "print('Coefficients:')\n",
    "for name, coef in zip(predictors, house_lm.coef_):\n",
    "    print(f' {name}: {coef}')"
   ]
  },
  {
   "cell_type": "markdown",
   "metadata": {},
   "source": [
    "### Assessing the Model with performance KPIs\n",
    "_Scikit-learn_ provides a number of metrics to determine the quality of a model. Here we use the `r2_score` and `RMSE`."
   ]
  },
  {
   "cell_type": "code",
   "execution_count": 8,
   "metadata": {},
   "outputs": [
    {
     "name": "stdout",
     "output_type": "stream",
     "text": [
      "RMSE: 259941\n",
      "r2: 0.5429\n",
      "RMSE_test: 259941\n",
      "r2_test: 0.5309\n"
     ]
    }
   ],
   "source": [
    "fitted = house_lm.predict(house[predictors])\n",
    "RMSE = np.sqrt(mean_squared_error(house[outcome], fitted))\n",
    "r2 = r2_score(house[outcome], fitted)\n",
    "print(f'RMSE: {RMSE:.0f}')\n",
    "print(f'r2: {r2:.4f}')\n",
    "\n",
    "fitted_test = house_lm.predict(house_test[predictors])\n",
    "RMSE_test = np.sqrt(mean_squared_error(house_test[outcome], fitted_test))\n",
    "r2 = r2_score(house_test[outcome], fitted_test)\n",
    "print(f'RMSE_test: {RMSE:.0f}')\n",
    "print(f'r2_test: {r2:.4f}')"
   ]
  },
  {
   "cell_type": "markdown",
   "metadata": {},
   "source": [
    "## 1 - Multiple Linear Regression (statsmodels)"
   ]
  },
  {
   "cell_type": "markdown",
   "metadata": {},
   "source": [
    "While _scikit-learn_ provides a variety of different metrics, _statsmodels_ provides a more in-depth analysis of the linear regression model. This package has two different ways of specifying the model, one that is similar to _scikit-learn_ and one that allows specifying _R_-style formulas. Here we use the first approach. As _statsmodels_ doesn't add an intercept automaticaly, we need to add a constant column with value 1 to the predictors. We can use the _pandas_ method assign for this."
   ]
  },
  {
   "cell_type": "code",
   "execution_count": 9,
   "metadata": {},
   "outputs": [
    {
     "name": "stdout",
     "output_type": "stream",
     "text": [
      "                            OLS Regression Results                            \n",
      "==============================================================================\n",
      "Dep. Variable:           AdjSalePrice   R-squared:                       0.543\n",
      "Model:                            OLS   Adj. R-squared:                  0.543\n",
      "Method:                 Least Squares   F-statistic:                     4310.\n",
      "Date:                Mon, 22 Jun 2020   Prob (F-statistic):               0.00\n",
      "Time:                        17:03:02   Log-Likelihood:            -2.5204e+05\n",
      "No. Observations:               18149   AIC:                         5.041e+05\n",
      "Df Residuals:                   18143   BIC:                         5.041e+05\n",
      "Df Model:                           5                                         \n",
      "Covariance Type:            nonrobust                                         \n",
      "=================================================================================\n",
      "                    coef    std err          t      P>|t|      [0.025      0.975]\n",
      "---------------------------------------------------------------------------------\n",
      "SqFtTotLiving   225.1783      4.383     51.370      0.000     216.586     233.770\n",
      "SqFtLot          -0.0506      0.067     -0.755      0.450      -0.182       0.081\n",
      "Bathrooms     -1.261e+04   4043.958     -3.119      0.002   -2.05e+04   -4687.741\n",
      "Bedrooms      -5.166e+04   2890.025    -17.876      0.000   -5.73e+04    -4.6e+04\n",
      "BldgGrade      1.066e+05   2670.421     39.915      0.000    1.01e+05    1.12e+05\n",
      "const         -5.199e+05   1.76e+04    -29.577      0.000   -5.54e+05   -4.85e+05\n",
      "==============================================================================\n",
      "Omnibus:                    24092.723   Durbin-Watson:                   2.008\n",
      "Prob(Omnibus):                  0.000   Jarque-Bera (JB):         18622840.561\n",
      "Skew:                           7.023   Prob(JB):                         0.00\n",
      "Kurtosis:                     159.299   Cond. No.                     2.94e+05\n",
      "==============================================================================\n",
      "\n",
      "Warnings:\n",
      "[1] Standard Errors assume that the covariance matrix of the errors is correctly specified.\n",
      "[2] The condition number is large, 2.94e+05. This might indicate that there are\n",
      "strong multicollinearity or other numerical problems.\n"
     ]
    }
   ],
   "source": [
    "mlr_sm = sm.OLS(house[outcome], house[predictors].assign(const=1))\n",
    "results = mlr_sm.fit()\n",
    "print(results.summary())"
   ]
  },
  {
   "cell_type": "markdown",
   "metadata": {},
   "source": [
    "### Correlations between predictors"
   ]
  },
  {
   "cell_type": "code",
   "execution_count": 10,
   "metadata": {},
   "outputs": [
    {
     "name": "stdout",
     "output_type": "stream",
     "text": [
      "Correlation Matrix \n",
      "                SqFtTotLiving   SqFtLot  Bathrooms  Bedrooms  BldgGrade\n",
      "SqFtTotLiving       1.000000  0.205631   0.765938  0.615335   0.771255\n",
      "SqFtLot             0.205631  1.000000   0.113026  0.074172   0.154543\n",
      "Bathrooms           0.765938  0.113026   1.000000  0.552981   0.660825\n",
      "Bedrooms            0.615335  0.074172   0.552981  1.000000   0.376513\n",
      "BldgGrade           0.771255  0.154543   0.660825  0.376513   1.000000\n"
     ]
    },
    {
     "data": {
      "image/png": "[encoded data removed]",
      "text/plain": [
       "<Figure size 432x288 with 2 Axes>"
      ]
     },
     "metadata": {
      "needs_background": "light"
     },
     "output_type": "display_data"
    }
   ],
   "source": [
    "corr = house[predictors].corr()\n",
    "print(\"Correlation Matrix \\n {}\".format(corr))\n",
    "\n",
    "ax = sns.heatmap(\n",
    "    corr, \n",
    "    vmin=-1, vmax=1, center=0,\n",
    "    cmap=sns.diverging_palette(20, 220, n=200),\n",
    "    square=True\n",
    ")\n",
    "ax.set_xticklabels(\n",
    "    ax.get_xticklabels(),\n",
    "    rotation=45,\n",
    "    horizontalalignment='right'\n",
    ");"
   ]
  },
  {
   "cell_type": "markdown",
   "metadata": {},
   "source": [
    "## 2 - Model Selection and Stepwise Regression"
   ]
  },
  {
   "cell_type": "code",
   "execution_count": 11,
   "metadata": {},
   "outputs": [
    {
     "name": "stdout",
     "output_type": "stream",
     "text": [
      "       SqFtTotLiving  SqFtLot  Bathrooms  Bedrooms  BldgGrade   PropertyType  \\\n",
      "14798           1880    10915       2.00         4          8  Single Family   \n",
      "5567            3250     6000       3.25         4         10  Single Family   \n",
      "23408           1340     5670       2.00         3          6  Single Family   \n",
      "807             6450    55088       4.25         4         11  Single Family   \n",
      "8178            2140    10343       2.50         4          8  Single Family   \n",
      "\n",
      "       NbrLivingUnits  SqFtFinBasement  YrBuilt  YrRenovated  NewConstruction  \n",
      "14798               1              540     1988            0            False  \n",
      "5567                1                0     2007            0             True  \n",
      "23408               1                0     1994            0            False  \n",
      "807                 1              870     1996            0            False  \n",
      "8178                1                0     1993            0            False  \n",
      "\n",
      " PropertyType List \n",
      "Single Family    16574\n",
      "Townhouse         1372\n",
      "Multiplex          203\n",
      "Name: PropertyType, dtype: int64\n",
      "\n",
      "Predictors after nominal varibale(s) treatment: (18149, 12) \n",
      "\n",
      "\n",
      "                            OLS Regression Results                            \n",
      "==============================================================================\n",
      "Dep. Variable:           AdjSalePrice   R-squared:                       0.598\n",
      "Model:                            OLS   Adj. R-squared:                  0.597\n",
      "Method:                 Least Squares   F-statistic:                     2245.\n",
      "Date:                Mon, 22 Jun 2020   Prob (F-statistic):               0.00\n",
      "Time:                        17:03:12   Log-Likelihood:            -2.5088e+05\n",
      "No. Observations:               18149   AIC:                         5.018e+05\n",
      "Df Residuals:                   18136   BIC:                         5.019e+05\n",
      "Df Model:                          12                                         \n",
      "Covariance Type:            nonrobust                                         \n",
      "==============================================================================================\n",
      "                                 coef    std err          t      P>|t|      [0.025      0.975]\n",
      "----------------------------------------------------------------------------------------------\n",
      "SqFtTotLiving                193.9096      4.739     40.914      0.000     184.620     203.199\n",
      "SqFtLot                        0.0725      0.063      1.143      0.253      -0.052       0.197\n",
      "Bathrooms                   4.851e+04   4223.641     11.486      0.000    4.02e+04    5.68e+04\n",
      "Bedrooms                   -5.708e+04   2783.264    -20.508      0.000   -6.25e+04   -5.16e+04\n",
      "BldgGrade                   1.384e+05   2713.209     51.004      0.000    1.33e+05    1.44e+05\n",
      "NbrLivingUnits             -1.235e+04   1.97e+04     -0.627      0.531    -5.1e+04    2.63e+04\n",
      "SqFtFinBasement               10.2287      5.150      1.986      0.047       0.135      20.322\n",
      "YrBuilt                    -3505.8753     85.967    -40.781      0.000   -3674.380   -3337.371\n",
      "YrRenovated                    2.9040      4.382      0.663      0.508      -5.686      11.494\n",
      "NewConstruction            -7474.9923   6581.169     -1.136      0.256   -2.04e+04    5424.723\n",
      "PropertyType_Single Family  -984.1961   2.93e+04     -0.034      0.973   -5.84e+04    5.65e+04\n",
      "PropertyType_Townhouse      5.524e+04   3.03e+04      1.823      0.068   -4151.003    1.15e+05\n",
      "const                       6.102e+06   1.73e+05     35.297      0.000    5.76e+06    6.44e+06\n",
      "==============================================================================\n",
      "Omnibus:                    25229.306   Durbin-Watson:                   2.014\n",
      "Prob(Omnibus):                  0.000   Jarque-Bera (JB):         25777614.973\n",
      "Skew:                           7.608   Prob(JB):                         0.00\n",
      "Kurtosis:                     187.001   Cond. No.                     3.05e+06\n",
      "==============================================================================\n",
      "\n",
      "Warnings:\n",
      "[1] Standard Errors assume that the covariance matrix of the errors is correctly specified.\n",
      "[2] The condition number is large, 3.05e+06. This might indicate that there are\n",
      "strong multicollinearity or other numerical problems.\n"
     ]
    }
   ],
   "source": [
    "predictors = ['SqFtTotLiving', 'SqFtLot', 'Bathrooms', 'Bedrooms',\n",
    "              'BldgGrade', 'PropertyType', 'NbrLivingUnits',\n",
    "              'SqFtFinBasement', 'YrBuilt', 'YrRenovated', \n",
    "              'NewConstruction']\n",
    "\n",
    "print(house[predictors].head())\n",
    "\n",
    "print(\"\\n PropertyType List \\n{}\".format(house['PropertyType'].value_counts(dropna=False)))\n",
    "\n",
    "X = pd.get_dummies(house[predictors], drop_first=True)\n",
    "X['NewConstruction'] = [1 if nc else 0 for nc in X['NewConstruction']]\n",
    "\n",
    "print(\"\\nPredictors after nominal varibale(s) treatment: {} \\n\\n\".format(X.shape))\n",
    "\n",
    "house_full = sm.OLS(house[outcome], X.assign(const=1))\n",
    "results = house_full.fit()\n",
    "print(results.summary())"
   ]
  },
  {
   "cell_type": "markdown",
   "metadata": {},
   "source": [
    "We can use the `stepwise_selection` method from the _dmba_ package."
   ]
  },
  {
   "cell_type": "code",
   "execution_count": 12,
   "metadata": {},
   "outputs": [
    {
     "name": "stdout",
     "output_type": "stream",
     "text": [
      "Variables: SqFtTotLiving, SqFtLot, Bathrooms, Bedrooms, BldgGrade, NbrLivingUnits, SqFtFinBasement, YrBuilt, YrRenovated, NewConstruction, PropertyType_Single Family, PropertyType_Townhouse\n",
      "Start: score=518288.21, constant\n",
      "Step: score=506306.23, add SqFtTotLiving\n",
      "Step: score=504446.24, add BldgGrade\n",
      "Step: score=502401.24, add YrBuilt\n",
      "Step: score=502019.16, add Bedrooms\n",
      "Step: score=501835.80, add Bathrooms\n",
      "Step: score=501786.96, add PropertyType_Townhouse\n",
      "Step: score=501784.71, add SqFtFinBasement\n",
      "Step: score=501784.71, unchanged None\n",
      "\n",
      "Intercept: 6135541.269\n",
      "Coefficients:\n",
      " SqFtTotLiving: 194.26475039166746\n",
      " BldgGrade: 138809.86668360163\n",
      " YrBuilt: -3530.210876981311\n",
      " Bedrooms: -57587.092344982084\n",
      " Bathrooms: 48105.64226571066\n",
      " PropertyType_Townhouse: 53532.7485008293\n",
      " SqFtFinBasement: 10.552623810950223\n"
     ]
    }
   ],
   "source": [
    "y = house[outcome]\n",
    "\n",
    "def train_model(variables):\n",
    "    if len(variables) == 0:\n",
    "        return None\n",
    "    model = LinearRegression()\n",
    "    model.fit(X[variables], y)\n",
    "    return model\n",
    "\n",
    "def score_model(model, variables):\n",
    "    if len(variables) == 0:\n",
    "        return AIC_score(y, [y.mean()] * len(y), model, df=1)\n",
    "    return AIC_score(y, model.predict(X[variables]), model)\n",
    "\n",
    "best_model, best_variables = stepwise_selection(X.columns, train_model, score_model, \n",
    "                                                verbose=True)\n",
    "\n",
    "print()\n",
    "print(f'Intercept: {best_model.intercept_:.3f}')\n",
    "print('Coefficients:')\n",
    "for name, coef in zip(best_variables, best_model.coef_):\n",
    "    print(f' {name}: {coef}')"
   ]
  },
  {
   "cell_type": "markdown",
   "metadata": {},
   "source": [
    "## 3 - Weighted regression\n",
    "For the house data recent sale price is more relavent for future prediction, old sale data is less reliable, therefore, we like to emphasis the recent sale data by apply more weight. We will use year the house sale to 2005 as weight.\n",
    "\n",
    "We can calculate the Year from the date column using either a list comprehension or the data frame's `apply` method."
   ]
  },
  {
   "cell_type": "code",
   "execution_count": 13,
   "metadata": {},
   "outputs": [
    {
     "name": "stdout",
     "output_type": "stream",
     "text": [
      "\n",
      "DocumentDate List \n",
      "2006-06-13    47\n",
      "2006-07-26    44\n",
      "2006-06-08    43\n",
      "2006-08-21    42\n",
      "2006-05-30    42\n",
      "              ..\n",
      "2012-11-13     1\n",
      "2014-08-28     1\n",
      "2012-01-04     1\n",
      "2006-03-04     1\n",
      "2009-10-11     1\n",
      "Name: DocumentDate, Length: 2460, dtype: int64\n"
     ]
    }
   ],
   "source": [
    "print(\"\\nDocumentDate List \\n{}\".format(house['DocumentDate'].value_counts(dropna=False)))"
   ]
  },
  {
   "cell_type": "code",
   "execution_count": 14,
   "metadata": {},
   "outputs": [
    {
     "name": "stderr",
     "output_type": "stream",
     "text": [
      "/opt/anaconda3/lib/python3.7/site-packages/ipykernel_launcher.py:1: SettingWithCopyWarning: \n",
      "A value is trying to be set on a copy of a slice from a DataFrame.\n",
      "Try using .loc[row_indexer,col_indexer] = value instead\n",
      "\n",
      "See the caveats in the documentation: http://pandas.pydata.org/pandas-docs/stable/user_guide/indexing.html#returning-a-view-versus-a-copy\n",
      "  \"\"\"Entry point for launching an IPython kernel.\n",
      "/opt/anaconda3/lib/python3.7/site-packages/ipykernel_launcher.py:2: SettingWithCopyWarning: \n",
      "A value is trying to be set on a copy of a slice from a DataFrame.\n",
      "Try using .loc[row_indexer,col_indexer] = value instead\n",
      "\n",
      "See the caveats in the documentation: http://pandas.pydata.org/pandas-docs/stable/user_guide/indexing.html#returning-a-view-versus-a-copy\n",
      "  \n",
      "/opt/anaconda3/lib/python3.7/site-packages/ipykernel_launcher.py:3: SettingWithCopyWarning: \n",
      "A value is trying to be set on a copy of a slice from a DataFrame.\n",
      "Try using .loc[row_indexer,col_indexer] = value instead\n",
      "\n",
      "See the caveats in the documentation: http://pandas.pydata.org/pandas-docs/stable/user_guide/indexing.html#returning-a-view-versus-a-copy\n",
      "  This is separate from the ipykernel package so we can avoid doing imports until\n"
     ]
    }
   ],
   "source": [
    "house['Year'] = [int(date.split('-')[0]) for date in house.DocumentDate]  #list comprehension\n",
    "house['Year'] = house.DocumentDate.apply(lambda d: int(d.split('-')[0]))  # apply()\n",
    "house['Weight'] = house.Year - 2005"
   ]
  },
  {
   "cell_type": "code",
   "execution_count": 15,
   "metadata": {},
   "outputs": [
    {
     "data": {
      "text/html": [
       "<div>\n",
       "<style scoped>\n",
       "    .dataframe tbody tr th:only-of-type {\n",
       "        vertical-align: middle;\n",
       "    }\n",
       "\n",
       "    .dataframe tbody tr th {\n",
       "        vertical-align: top;\n",
       "    }\n",
       "\n",
       "    .dataframe thead th {\n",
       "        text-align: right;\n",
       "    }\n",
       "</style>\n",
       "<table border=\"1\" class=\"dataframe\">\n",
       "  <thead>\n",
       "    <tr style=\"text-align: right;\">\n",
       "      <th></th>\n",
       "      <th>predictor</th>\n",
       "      <th>house_lm</th>\n",
       "      <th>house_wt</th>\n",
       "    </tr>\n",
       "  </thead>\n",
       "  <tbody>\n",
       "    <tr>\n",
       "      <td>0</td>\n",
       "      <td>SqFtTotLiving</td>\n",
       "      <td>225.178285</td>\n",
       "      <td>241.659906</td>\n",
       "    </tr>\n",
       "    <tr>\n",
       "      <td>1</td>\n",
       "      <td>SqFtLot</td>\n",
       "      <td>-0.050604</td>\n",
       "      <td>-0.314313</td>\n",
       "    </tr>\n",
       "    <tr>\n",
       "      <td>2</td>\n",
       "      <td>Bathrooms</td>\n",
       "      <td>-12614.282073</td>\n",
       "      <td>-20648.130172</td>\n",
       "    </tr>\n",
       "    <tr>\n",
       "      <td>3</td>\n",
       "      <td>Bedrooms</td>\n",
       "      <td>-51661.027435</td>\n",
       "      <td>-54592.437980</td>\n",
       "    </tr>\n",
       "    <tr>\n",
       "      <td>4</td>\n",
       "      <td>BldgGrade</td>\n",
       "      <td>106591.142013</td>\n",
       "      <td>116648.887598</td>\n",
       "    </tr>\n",
       "    <tr>\n",
       "      <td>5</td>\n",
       "      <td>intercept</td>\n",
       "      <td>-519930.830830</td>\n",
       "      <td>-596191.114535</td>\n",
       "    </tr>\n",
       "  </tbody>\n",
       "</table>\n",
       "</div>"
      ],
      "text/plain": [
       "       predictor       house_lm       house_wt\n",
       "0  SqFtTotLiving     225.178285     241.659906\n",
       "1        SqFtLot      -0.050604      -0.314313\n",
       "2      Bathrooms  -12614.282073  -20648.130172\n",
       "3       Bedrooms  -51661.027435  -54592.437980\n",
       "4      BldgGrade  106591.142013  116648.887598\n",
       "5      intercept -519930.830830 -596191.114535"
      ]
     },
     "execution_count": 15,
     "metadata": {},
     "output_type": "execute_result"
    }
   ],
   "source": [
    "predictors = ['SqFtTotLiving', 'SqFtLot', 'Bathrooms', \n",
    "              'Bedrooms', 'BldgGrade']\n",
    "outcome = 'AdjSalePrice'\n",
    "\n",
    "house_wt = LinearRegression()\n",
    "house_wt.fit(house[predictors], house[outcome], sample_weight=house.Weight)\n",
    "pd.DataFrame({\n",
    "    'predictor': predictors,\n",
    "    'house_lm': house_lm.coef_,\n",
    "    'house_wt': house_wt.coef_,\n",
    "}).append({\n",
    "    'predictor': 'intercept', \n",
    "    'house_lm': house_lm.intercept_,\n",
    "    'house_wt': house_wt.intercept_,\n",
    "}, ignore_index=True)"
   ]
  },
  {
   "cell_type": "code",
   "execution_count": 16,
   "metadata": {},
   "outputs": [
    {
     "name": "stdout",
     "output_type": "stream",
     "text": [
      "       abs_residual_lm  abs_residual_wt  Year\n",
      "14798     16764.462214     21279.874999  2008\n",
      "5567      84475.864479    122940.404734  2008\n",
      "23408     57056.649073     77242.241839  2009\n",
      "807      512869.175237    593153.884583  2006\n",
      "8178      85629.620996     90564.172212  2012\n",
      "\n",
      "\n",
      "Year   Abs_residual_lm    Abs_residual_wt\n",
      "2006 141082.0901241939 147463.86829344239\n",
      "2007 147202.1163193371 152737.15283146116\n",
      "2008 142503.08648127463 146984.61169515457\n",
      "2009 142864.84995109116 147967.52539995982\n",
      "2010 162218.74796193035 165154.27967431684\n",
      "2011 167224.57561627807 170351.72527402485\n",
      "2012 173496.4732715836 176347.9451695013\n",
      "2013 210081.60303334153 212492.23310888067\n",
      "2014 188760.5798242457 191733.8653079847\n",
      "2015 176737.09284290674 174202.82549408745\n"
     ]
    },
    {
     "data": {
      "image/png": "[encoded data removed]",
      "text/plain": [
       "<Figure size 720x288 with 2 Axes>"
      ]
     },
     "metadata": {
      "needs_background": "light"
     },
     "output_type": "display_data"
    }
   ],
   "source": [
    "residuals = pd.DataFrame({\n",
    "    'abs_residual_lm': np.abs(house_lm.predict(house[predictors]) - house[outcome]),\n",
    "    'abs_residual_wt': np.abs(house_wt.predict(house[predictors]) - house[outcome]),\n",
    "    'Year': house['Year'],\n",
    "})\n",
    "print(residuals.head())\n",
    "axes = residuals.boxplot(['abs_residual_lm', 'abs_residual_wt'], by='Year', figsize=(10, 4))\n",
    "axes[0].set_ylim(0, 300000)\n",
    "\n",
    "print(\"\\n\\nYear   Abs_residual_lm    Abs_residual_wt\")\n",
    "for year, group in residuals.groupby('Year'):\n",
    "    print(year, np.mean(group['abs_residual_lm']), np.mean(group['abs_residual_wt']))"
   ]
  },
  {
   "cell_type": "markdown",
   "metadata": {},
   "source": [
    "Seems only help 2015 prediction reduce the residuale.If we have a recent holdout sample we can test the weight could help for furture prediction or not"
   ]
  },
  {
   "cell_type": "markdown",
   "metadata": {},
   "source": [
    "# 4 - Regularization"
   ]
  },
  {
   "cell_type": "code",
   "execution_count": 17,
   "metadata": {},
   "outputs": [
    {
     "name": "stdout",
     "output_type": "stream",
     "text": [
      "       SqFtTotLiving  SqFtLot  Bathrooms  Bedrooms  BldgGrade   PropertyType  \\\n",
      "14798           1880    10915       2.00         4          8  Single Family   \n",
      "5567            3250     6000       3.25         4         10  Single Family   \n",
      "23408           1340     5670       2.00         3          6  Single Family   \n",
      "807             6450    55088       4.25         4         11  Single Family   \n",
      "8178            2140    10343       2.50         4          8  Single Family   \n",
      "\n",
      "       NbrLivingUnits  SqFtFinBasement  YrBuilt  YrRenovated  NewConstruction  \n",
      "14798               1              540     1988            0            False  \n",
      "5567                1                0     2007            0             True  \n",
      "23408               1                0     1994            0            False  \n",
      "807                 1              870     1996            0            False  \n",
      "8178                1                0     1993            0            False  \n",
      "\n",
      " PropertyType List \n",
      "Single Family    16574\n",
      "Townhouse         1372\n",
      "Multiplex          203\n",
      "Name: PropertyType, dtype: int64\n"
     ]
    }
   ],
   "source": [
    "predictors = ['SqFtTotLiving', 'SqFtLot', 'Bathrooms', 'Bedrooms',\n",
    "              'BldgGrade', 'PropertyType', 'NbrLivingUnits',\n",
    "              'SqFtFinBasement', 'YrBuilt', 'YrRenovated', \n",
    "              'NewConstruction']\n",
    "\n",
    "outcome = 'AdjSalePrice'\n",
    "\n",
    "print(house[predictors].head())\n",
    "\n",
    "print(\"\\n PropertyType List \\n{}\".format(house['PropertyType'].value_counts(dropna=False)))\n",
    "\n",
    "X_train = pd.get_dummies(house[predictors], drop_first=True)\n",
    "X_train['NewConstruction'] = [1 if nc else 0 for nc in X_train['NewConstruction']]\n",
    "y_train = house[outcome]\n",
    "\n",
    "X_test = pd.get_dummies(house_test[predictors], drop_first=True)\n",
    "X_test['NewConstruction'] = [1 if nc else 0 for nc in X_test['NewConstruction']]\n",
    "y_test = house_test[outcome]"
   ]
  },
  {
   "cell_type": "markdown",
   "metadata": {},
   "source": [
    "### Regular Multiple Regression"
   ]
  },
  {
   "cell_type": "code",
   "execution_count": 18,
   "metadata": {},
   "outputs": [
    {
     "data": {
      "text/plain": [
       "{'Intercept': 6102062.631,\n",
       " 'SqFtTotLiving': 193.91,\n",
       " 'SqFtLot': 0.072,\n",
       " 'Bathrooms': 48512.791,\n",
       " 'Bedrooms': -57078.944,\n",
       " 'BldgGrade': 138384.299,\n",
       " 'NbrLivingUnits': -12351.713,\n",
       " 'SqFtFinBasement': 10.229,\n",
       " 'YrBuilt': -3505.875,\n",
       " 'YrRenovated': 2.904,\n",
       " 'NewConstruction': -7474.992,\n",
       " 'PropertyType_Single Family': -984.196}"
      ]
     },
     "execution_count": 18,
     "metadata": {},
     "output_type": "execute_result"
    }
   ],
   "source": [
    "house_lm = LinearRegression()\n",
    "house_lm.fit(X_train, y_train)\n",
    "\n",
    "mlr_coefs = dict(\n",
    "    zip(['Intercept'] + X_train.columns.tolist()[:-1], \n",
    "        np.round(np.concatenate((house_lm.intercept_, house_lm.coef_), \n",
    "                                axis=None), 3))\n",
    ")\n",
    "\n",
    "mlr_coefs"
   ]
  },
  {
   "cell_type": "code",
   "execution_count": 19,
   "metadata": {},
   "outputs": [
    {
     "name": "stdout",
     "output_type": "stream",
     "text": [
      "regular mlr MSE: 251651\n",
      "r2_test: 0.5815\n"
     ]
    }
   ],
   "source": [
    "fitted_test = house_lm.predict(X_test)\n",
    "MSE_test = np.sqrt(mean_squared_error(y_test, fitted_test))\n",
    "r2 = r2_score(y_test, fitted_test)\n",
    "print(f'regular mlr MSE: {MSE_test:.0f}')\n",
    "print(f'r2_test: {r2:.4f}')"
   ]
  },
  {
   "cell_type": "markdown",
   "metadata": {},
   "source": [
    "### L2 - Ridge regression (Parameter shrinkage)"
   ]
  },
  {
   "cell_type": "code",
   "execution_count": 20,
   "metadata": {},
   "outputs": [
    {
     "name": "stdout",
     "output_type": "stream",
     "text": [
      "Ridge Regression MAE: 136659.957\n",
      "Ridge Regression coefficients:\n"
     ]
    },
    {
     "data": {
      "text/plain": [
       "{'Intercept': 5989953.762,\n",
       " 'SqFtTotLiving': 190.29,\n",
       " 'SqFtLot': 0.083,\n",
       " 'Bathrooms': 49386.389,\n",
       " 'Bedrooms': -55684.219,\n",
       " 'BldgGrade': 138125.204,\n",
       " 'NbrLivingUnits': -14420.701,\n",
       " 'SqFtFinBasement': 12.58,\n",
       " 'YrBuilt': -3444.858,\n",
       " 'YrRenovated': 3.898,\n",
       " 'NewConstruction': -7501.872,\n",
       " 'PropertyType_Single Family': -4840.314}"
      ]
     },
     "execution_count": 20,
     "metadata": {},
     "output_type": "execute_result"
    }
   ],
   "source": [
    "ridge_cv = RidgeCV(normalize=True, alphas=np.logspace(-10, 1, 400))\n",
    "ridge_model = ridge_cv.fit(X_train, y_train)\n",
    "ridge_prediction = ridge_model.predict(X_test)\n",
    "ridge_mae = np.mean(np.abs(y_test - ridge_prediction))\n",
    "ridge_coefs = dict(\n",
    "    zip(['Intercept'] + X_train.columns.tolist()[:-1], \n",
    "        np.round(np.concatenate((ridge_model.intercept_, ridge_model.coef_), \n",
    "                                axis=None), 3))\n",
    ")\n",
    "\n",
    "print('Ridge Regression MAE: {}'.format(np.round(ridge_mae, 3)))\n",
    "print('Ridge Regression coefficients:')\n",
    "ridge_coefs"
   ]
  },
  {
   "cell_type": "markdown",
   "metadata": {},
   "source": [
    "### L1 - Lasso regression (Parameter sparsity)"
   ]
  },
  {
   "cell_type": "code",
   "execution_count": 21,
   "metadata": {},
   "outputs": [
    {
     "name": "stderr",
     "output_type": "stream",
     "text": [
      "/opt/anaconda3/lib/python3.7/site-packages/sklearn/model_selection/_split.py:1978: FutureWarning: The default value of cv will change from 3 to 5 in version 0.22. Specify it explicitly to silence this warning.\n",
      "  warnings.warn(CV_WARNING, FutureWarning)\n"
     ]
    },
    {
     "name": "stdout",
     "output_type": "stream",
     "text": [
      "LASSO MAE: 136616.413\n",
      "LASSO coefficients:\n"
     ]
    },
    {
     "data": {
      "text/plain": [
       "{'Intercept': 5988119.45,\n",
       " 'SqFtTotLiving': 192.288,\n",
       " 'SqFtLot': 0.055,\n",
       " 'Bathrooms': 46685.227,\n",
       " 'Bedrooms': -55192.135,\n",
       " 'BldgGrade': 138429.642,\n",
       " 'NbrLivingUnits': -6915.998,\n",
       " 'SqFtFinBasement': 10.402,\n",
       " 'YrBuilt': -3450.903,\n",
       " 'YrRenovated': 2.571,\n",
       " 'NewConstruction': -4899.923,\n",
       " 'PropertyType_Single Family': -0.0}"
      ]
     },
     "execution_count": 21,
     "metadata": {},
     "output_type": "execute_result"
    }
   ],
   "source": [
    "lasso_cv = LassoCV(normalize=True, alphas=np.logspace(-10, 1, 400))\n",
    "lasso_model = lasso_cv.fit(X_train, y_train)\n",
    "lasso_prediction = lasso_model.predict(X_test)\n",
    "lasso_mae = np.mean(np.abs(y_test - lasso_prediction))\n",
    "lasso_coefs = dict(\n",
    "    zip(['Intercept'] + X_train.columns.tolist()[:-1], \n",
    "        np.round(np.concatenate((lasso_model.intercept_, lasso_model.coef_), axis=None), 3))\n",
    ")\n",
    "\n",
    "print('LASSO MAE: {}'.format(np.round(lasso_mae, 3)))\n",
    "print('LASSO coefficients:')\n",
    "lasso_coefs"
   ]
  },
  {
   "cell_type": "markdown",
   "metadata": {},
   "source": [
    "# Home Work"
   ]
  },
  {
   "cell_type": "markdown",
   "metadata": {},
   "source": [
    "1. Compare the three model fits and draw conclusion \n",
    "from the comparision of the three model firt regarding there coefficent difference"
   ]
  },
  {
   "cell_type": "markdown",
   "metadata": {},
   "source": [
    "2. Show the three model performance on both tran and test"
   ]
  }
 ],
 "metadata": {
  "kernelspec": {
   "display_name": "Python 3",
   "language": "python",
   "name": "python3"
  },
  "language_info": {
   "codemirror_mode": {
    "name": "ipython",
    "version": 3
   },
   "file_extension": ".py",
   "mimetype": "text/x-python",
   "name": "python",
   "nbconvert_exporter": "python",
   "pygments_lexer": "ipython3",
   "version": "3.7.4"
  }
 },
 "nbformat": 4,
 "nbformat_minor": 2
}
